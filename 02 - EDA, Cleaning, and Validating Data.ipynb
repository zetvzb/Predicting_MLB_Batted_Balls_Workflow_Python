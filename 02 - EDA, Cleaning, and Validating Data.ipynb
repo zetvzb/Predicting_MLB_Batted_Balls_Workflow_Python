{
 "cells": [
  {
   "cell_type": "markdown",
   "metadata": {},
   "source": [
    "### 🔄 Task 1:  load the data from database "
   ]
  },
  {
   "cell_type": "code",
   "execution_count": 6,
   "metadata": {},
   "outputs": [
    {
     "ename": "ModuleNotFoundError",
     "evalue": "No module named 'polars'",
     "output_type": "error",
     "traceback": [
      "\u001b[1;31m---------------------------------------------------------------------------\u001b[0m",
      "\u001b[1;31mModuleNotFoundError\u001b[0m                       Traceback (most recent call last)",
      "Cell \u001b[1;32mIn[6], line 1\u001b[0m\n\u001b[1;32m----> 1\u001b[0m \u001b[38;5;28;01mimport\u001b[39;00m \u001b[38;5;21;01mpolars\u001b[39;00m \u001b[38;5;28;01mas\u001b[39;00m \u001b[38;5;21;01mpl\u001b[39;00m\n\u001b[0;32m      2\u001b[0m \u001b[38;5;28;01mimport\u001b[39;00m \u001b[38;5;21;01msqlite3\u001b[39;00m\n",
      "\u001b[1;31mModuleNotFoundError\u001b[0m: No module named 'polars'"
     ]
    }
   ],
   "source": [
    "import polars as pl\n",
    "import sqlite3"
   ]
  },
  {
   "cell_type": "code",
   "execution_count": 3,
   "metadata": {},
   "outputs": [
    {
     "ename": "NameError",
     "evalue": "name 'sqlite3' is not defined",
     "output_type": "error",
     "traceback": [
      "\u001b[1;31m---------------------------------------------------------------------------\u001b[0m",
      "\u001b[1;31mNameError\u001b[0m                                 Traceback (most recent call last)",
      "Cell \u001b[1;32mIn[3], line 1\u001b[0m\n\u001b[1;32m----> 1\u001b[0m conn \u001b[38;5;241m=\u001b[39m \u001b[43msqlite3\u001b[49m\u001b[38;5;241m.\u001b[39mconnect(\u001b[38;5;124m'\u001b[39m\u001b[38;5;124mmajor_league_statcast.db\u001b[39m\u001b[38;5;124m'\u001b[39m)\n\u001b[0;32m      3\u001b[0m df \u001b[38;5;241m=\u001b[39m pl\u001b[38;5;241m.\u001b[39mread_database(\u001b[38;5;124m'\u001b[39m\u001b[38;5;124mSELECT * FROM statcast_data\u001b[39m\u001b[38;5;124m'\u001b[39m, conn)\n\u001b[0;32m      5\u001b[0m conn\u001b[38;5;241m.\u001b[39mclose()\n",
      "\u001b[1;31mNameError\u001b[0m: name 'sqlite3' is not defined"
     ]
    }
   ],
   "source": [
    "conn = sqlite3.connect('major_league_statcast.db')\n",
    "\n",
    "df = pl.read_database('SELECT * FROM statcast_data', conn)\n",
    "\n",
    "conn.close()\n",
    "print(df.head)"
   ]
  },
  {
   "cell_type": "markdown",
   "metadata": {},
   "source": [
    "### 🔄 Task 2 :  explore the data"
   ]
  },
  {
   "cell_type": "markdown",
   "metadata": {},
   "source": [
    "Begin exploring the data. You will want to understand:\n",
    "\n",
    "- What columns exist in the data?\n",
    "- What is the type of each column (e.g. string, number, category, date)?\n",
    "- Which columns could be useful for the model?\n",
    "- What steps will I need to perform to clean the data?\n",
    "\n",
    "**Tips**\n",
    "\n",
    "- Use VS Codes built in data viewer to explore the data.\n",
    "- If you are more comfortable with Pandas, you can convert the polars dataframe into a pandas dataframe (e.g. `df.to_pandas()`).\n",
    "- The polars user guide has great docs on how to use polars: https://docs.pola.rs.\n",
    "\n",
    "🚨 We are not performing feature engineering at this stage. But it is a good time to start thinking about what features you can create from the data."
   ]
  },
  {
   "cell_type": "code",
   "execution_count": 2,
   "metadata": {},
   "outputs": [
    {
     "ename": "NameError",
     "evalue": "name 'df' is not defined",
     "output_type": "error",
     "traceback": [
      "\u001b[1;31m---------------------------------------------------------------------------\u001b[0m",
      "\u001b[1;31mNameError\u001b[0m                                 Traceback (most recent call last)",
      "Cell \u001b[1;32mIn[2], line 2\u001b[0m\n\u001b[0;32m      1\u001b[0m \u001b[38;5;66;03m#View Data\u001b[39;00m\n\u001b[1;32m----> 2\u001b[0m \u001b[43mdf\u001b[49m\u001b[38;5;241m.\u001b[39mhead(\u001b[38;5;241m2\u001b[39m)\n",
      "\u001b[1;31mNameError\u001b[0m: name 'df' is not defined"
     ]
    }
   ],
   "source": [
    "#View Data\n",
    "df.head(2)"
   ]
  },
  {
   "cell_type": "code",
   "execution_count": 75,
   "metadata": {},
   "outputs": [
    {
     "data": {
      "text/plain": [
       "['pitch_type',\n",
       " 'game_date',\n",
       " 'release_speed',\n",
       " 'release_pos_x',\n",
       " 'release_pos_z',\n",
       " 'player_name',\n",
       " 'batter',\n",
       " 'pitcher',\n",
       " 'events',\n",
       " 'description',\n",
       " 'spin_dir',\n",
       " 'spin_rate_deprecated',\n",
       " 'break_angle_deprecated',\n",
       " 'break_length_deprecated',\n",
       " 'zone',\n",
       " 'des',\n",
       " 'game_type',\n",
       " 'stand',\n",
       " 'p_throws',\n",
       " 'home_team',\n",
       " 'away_team',\n",
       " 'type',\n",
       " 'hit_location',\n",
       " 'bb_type',\n",
       " 'balls',\n",
       " 'strikes',\n",
       " 'game_year',\n",
       " 'pfx_x',\n",
       " 'pfx_z',\n",
       " 'plate_x',\n",
       " 'plate_z',\n",
       " 'on_3b',\n",
       " 'on_2b',\n",
       " 'on_1b',\n",
       " 'outs_when_up',\n",
       " 'inning',\n",
       " 'inning_topbot',\n",
       " 'hc_x',\n",
       " 'hc_y',\n",
       " 'tfs_deprecated',\n",
       " 'tfs_zulu_deprecated',\n",
       " 'fielder_2',\n",
       " 'umpire',\n",
       " 'sv_id',\n",
       " 'vx0',\n",
       " 'vy0',\n",
       " 'vz0',\n",
       " 'ax',\n",
       " 'ay',\n",
       " 'az',\n",
       " 'sz_top',\n",
       " 'sz_bot',\n",
       " 'hit_distance_sc',\n",
       " 'launch_speed',\n",
       " 'launch_angle',\n",
       " 'effective_speed',\n",
       " 'release_spin_rate',\n",
       " 'release_extension',\n",
       " 'game_pk',\n",
       " 'pitcher_1',\n",
       " 'fielder_2_1',\n",
       " 'fielder_3',\n",
       " 'fielder_4',\n",
       " 'fielder_5',\n",
       " 'fielder_6',\n",
       " 'fielder_7',\n",
       " 'fielder_8',\n",
       " 'fielder_9',\n",
       " 'release_pos_y',\n",
       " 'estimated_ba_using_speedangle',\n",
       " 'estimated_woba_using_speedangle',\n",
       " 'woba_value',\n",
       " 'woba_denom',\n",
       " 'babip_value',\n",
       " 'iso_value',\n",
       " 'launch_speed_angle',\n",
       " 'at_bat_number',\n",
       " 'pitch_number',\n",
       " 'pitch_name',\n",
       " 'home_score',\n",
       " 'away_score',\n",
       " 'bat_score',\n",
       " 'fld_score',\n",
       " 'post_away_score',\n",
       " 'post_home_score',\n",
       " 'post_bat_score',\n",
       " 'post_fld_score',\n",
       " 'if_fielding_alignment',\n",
       " 'of_fielding_alignment',\n",
       " 'spin_axis',\n",
       " 'delta_home_win_exp',\n",
       " 'delta_run_exp',\n",
       " 'bat_speed',\n",
       " 'swing_length']"
      ]
     },
     "execution_count": 75,
     "metadata": {},
     "output_type": "execute_result"
    }
   ],
   "source": [
    "#List of Columns \n",
    "list(df.columns)"
   ]
  },
  {
   "cell_type": "code",
   "execution_count": 76,
   "metadata": {},
   "outputs": [
    {
     "data": {
      "text/html": [
       "<div><style>\n",
       ".dataframe > thead > tr,\n",
       ".dataframe > tbody > tr {\n",
       "  text-align: right;\n",
       "  white-space: pre-wrap;\n",
       "}\n",
       "</style>\n",
       "<small>shape: (5, 67)</small><table border=\"1\" class=\"dataframe\"><thead><tr><th>release_speed</th><th>release_pos_x</th><th>release_pos_z</th><th>batter</th><th>pitcher</th><th>zone</th><th>hit_location</th><th>balls</th><th>strikes</th><th>game_year</th><th>pfx_x</th><th>pfx_z</th><th>plate_x</th><th>plate_z</th><th>on_3b</th><th>on_2b</th><th>on_1b</th><th>outs_when_up</th><th>inning</th><th>hc_x</th><th>hc_y</th><th>fielder_2</th><th>vx0</th><th>vy0</th><th>vz0</th><th>ax</th><th>ay</th><th>az</th><th>sz_top</th><th>sz_bot</th><th>hit_distance_sc</th><th>launch_speed</th><th>launch_angle</th><th>effective_speed</th><th>release_spin_rate</th><th>release_extension</th><th>game_pk</th><th>pitcher_1</th><th>fielder_2_1</th><th>fielder_3</th><th>fielder_4</th><th>fielder_5</th><th>fielder_6</th><th>fielder_7</th><th>fielder_8</th><th>fielder_9</th><th>release_pos_y</th><th>estimated_ba_using_speedangle</th><th>estimated_woba_using_speedangle</th><th>woba_value</th><th>woba_denom</th><th>babip_value</th><th>iso_value</th><th>launch_speed_angle</th><th>at_bat_number</th><th>pitch_number</th><th>home_score</th><th>away_score</th><th>bat_score</th><th>fld_score</th><th>post_away_score</th><th>post_home_score</th><th>post_bat_score</th><th>post_fld_score</th><th>spin_axis</th><th>delta_home_win_exp</th><th>delta_run_exp</th></tr><tr><td>f64</td><td>f64</td><td>f64</td><td>f64</td><td>f64</td><td>f64</td><td>f64</td><td>f64</td><td>f64</td><td>f64</td><td>f64</td><td>f64</td><td>f64</td><td>f64</td><td>f64</td><td>f64</td><td>f64</td><td>f64</td><td>f64</td><td>f64</td><td>f64</td><td>f64</td><td>f64</td><td>f64</td><td>f64</td><td>f64</td><td>f64</td><td>f64</td><td>f64</td><td>f64</td><td>f64</td><td>f64</td><td>f64</td><td>f64</td><td>f64</td><td>f64</td><td>f64</td><td>f64</td><td>f64</td><td>f64</td><td>f64</td><td>f64</td><td>f64</td><td>f64</td><td>f64</td><td>f64</td><td>f64</td><td>f64</td><td>f64</td><td>f64</td><td>f64</td><td>f64</td><td>f64</td><td>f64</td><td>f64</td><td>f64</td><td>f64</td><td>f64</td><td>f64</td><td>f64</td><td>f64</td><td>f64</td><td>f64</td><td>f64</td><td>f64</td><td>f64</td><td>f64</td></tr></thead><tbody><tr><td>85.8</td><td>1.75</td><td>5.94</td><td>677870.0</td><td>598286.0</td><td>3.0</td><td>1.0</td><td>0.0</td><td>0.0</td><td>2024.0</td><td>1.04</td><td>0.16</td><td>0.29</td><td>2.75</td><td>null</td><td>null</td><td>682619.0</td><td>2.0</td><td>9.0</td><td>127.68</td><td>183.52</td><td>665966.0</td><td>-5.445048</td><td>-124.800602</td><td>-1.562434</td><td>11.977626</td><td>26.108795</td><td>-30.442818</td><td>3.12</td><td>1.57</td><td>2.0</td><td>85.4</td><td>-54.0</td><td>84.1</td><td>1919.0</td><td>5.3</td><td>753616.0</td><td>598286.0</td><td>665966.0</td><td>677954.0</td><td>702332.0</td><td>669023.0</td><td>675656.0</td><td>677592.0</td><td>656185.0</td><td>663604.0</td><td>55.19</td><td>0.186</td><td>0.167</td><td>0.0</td><td>1.0</td><td>0.0</td><td>0.0</td><td>2.0</td><td>96.0</td><td>1.0</td><td>9.0</td><td>12.0</td><td>9.0</td><td>12.0</td><td>12.0</td><td>9.0</td><td>9.0</td><td>12.0</td><td>125.0</td><td>-0.014</td><td>-0.244</td></tr><tr><td>75.4</td><td>1.94</td><td>5.92</td><td>686490.0</td><td>598286.0</td><td>12.0</td><td>2.0</td><td>1.0</td><td>2.0</td><td>2024.0</td><td>1.35</td><td>0.38</td><td>1.54</td><td>2.67</td><td>null</td><td>null</td><td>682619.0</td><td>1.0</td><td>9.0</td><td>null</td><td>null</td><td>665966.0</td><td>-3.169584</td><td>-109.909609</td><td>-0.432053</td><td>11.543284</td><td>16.909058</td><td>-29.210926</td><td>3.25</td><td>1.64</td><td>null</td><td>null</td><td>null</td><td>74.4</td><td>1568.0</td><td>5.2</td><td>753616.0</td><td>598286.0</td><td>665966.0</td><td>677954.0</td><td>702332.0</td><td>669023.0</td><td>675656.0</td><td>677592.0</td><td>656185.0</td><td>663604.0</td><td>55.32</td><td>null</td><td>0.0</td><td>0.0</td><td>1.0</td><td>0.0</td><td>0.0</td><td>null</td><td>95.0</td><td>5.0</td><td>9.0</td><td>12.0</td><td>9.0</td><td>12.0</td><td>12.0</td><td>9.0</td><td>9.0</td><td>12.0</td><td>113.0</td><td>-0.028</td><td>-0.226</td></tr><tr><td>76.0</td><td>1.84</td><td>5.94</td><td>686490.0</td><td>598286.0</td><td>13.0</td><td>null</td><td>0.0</td><td>2.0</td><td>2024.0</td><td>1.34</td><td>0.65</td><td>-0.3</td><td>0.74</td><td>null</td><td>null</td><td>682619.0</td><td>1.0</td><td>9.0</td><td>null</td><td>null</td><td>665966.0</td><td>-6.751937</td><td>-110.460788</td><td>-4.899451</td><td>12.144516</td><td>19.651204</td><td>-26.175477</td><td>3.25</td><td>1.64</td><td>null</td><td>null</td><td>null</td><td>74.7</td><td>1570.0</td><td>5.4</td><td>753616.0</td><td>598286.0</td><td>665966.0</td><td>677954.0</td><td>702332.0</td><td>669023.0</td><td>675656.0</td><td>677592.0</td><td>656185.0</td><td>663604.0</td><td>55.14</td><td>null</td><td>null</td><td>null</td><td>null</td><td>null</td><td>null</td><td>null</td><td>95.0</td><td>4.0</td><td>9.0</td><td>12.0</td><td>9.0</td><td>12.0</td><td>12.0</td><td>9.0</td><td>9.0</td><td>12.0</td><td>113.0</td><td>0.0</td><td>0.051</td></tr><tr><td>75.4</td><td>1.85</td><td>5.93</td><td>686490.0</td><td>598286.0</td><td>8.0</td><td>null</td><td>0.0</td><td>2.0</td><td>2024.0</td><td>0.71</td><td>0.4</td><td>0.08</td><td>2.06</td><td>null</td><td>null</td><td>682619.0</td><td>1.0</td><td>9.0</td><td>null</td><td>null</td><td>665966.0</td><td>-4.84482</td><td>-109.908618</td><td>-1.760967</td><td>6.544678</td><td>15.860255</td><td>-28.84014</td><td>3.25</td><td>1.64</td><td>null</td><td>null</td><td>null</td><td>74.8</td><td>1449.0</td><td>5.4</td><td>753616.0</td><td>598286.0</td><td>665966.0</td><td>677954.0</td><td>702332.0</td><td>669023.0</td><td>675656.0</td><td>677592.0</td><td>656185.0</td><td>663604.0</td><td>55.14</td><td>null</td><td>null</td><td>null</td><td>null</td><td>null</td><td>null</td><td>null</td><td>95.0</td><td>3.0</td><td>9.0</td><td>12.0</td><td>9.0</td><td>12.0</td><td>12.0</td><td>9.0</td><td>9.0</td><td>12.0</td><td>112.0</td><td>0.0</td><td>0.0</td></tr><tr><td>85.5</td><td>1.83</td><td>5.87</td><td>686490.0</td><td>598286.0</td><td>5.0</td><td>null</td><td>0.0</td><td>1.0</td><td>2024.0</td><td>1.49</td><td>0.15</td><td>0.26</td><td>2.4</td><td>null</td><td>null</td><td>682619.0</td><td>1.0</td><td>9.0</td><td>null</td><td>null</td><td>665966.0</td><td>-6.584302</td><td>-124.441886</td><td>-2.235255</td><td>16.784583</td><td>22.793861</td><td>-30.336796</td><td>3.25</td><td>1.64</td><td>197.0</td><td>93.6</td><td>11.0</td><td>84.5</td><td>1895.0</td><td>5.4</td><td>753616.0</td><td>598286.0</td><td>665966.0</td><td>677954.0</td><td>702332.0</td><td>669023.0</td><td>675656.0</td><td>677592.0</td><td>656185.0</td><td>663604.0</td><td>55.09</td><td>null</td><td>null</td><td>null</td><td>null</td><td>null</td><td>null</td><td>null</td><td>95.0</td><td>2.0</td><td>9.0</td><td>12.0</td><td>9.0</td><td>12.0</td><td>12.0</td><td>9.0</td><td>9.0</td><td>12.0</td><td>118.0</td><td>0.0</td><td>-0.084</td></tr></tbody></table></div>"
      ],
      "text/plain": [
       "shape: (5, 67)\n",
       "┌───────────┬───────────┬───────────┬──────────┬───┬───────────┬───────────┬───────────┬───────────┐\n",
       "│ release_s ┆ release_p ┆ release_p ┆ batter   ┆ … ┆ post_fld_ ┆ spin_axis ┆ delta_hom ┆ delta_run │\n",
       "│ peed      ┆ os_x      ┆ os_z      ┆ ---      ┆   ┆ score     ┆ ---       ┆ e_win_exp ┆ _exp      │\n",
       "│ ---       ┆ ---       ┆ ---       ┆ f64      ┆   ┆ ---       ┆ f64       ┆ ---       ┆ ---       │\n",
       "│ f64       ┆ f64       ┆ f64       ┆          ┆   ┆ f64       ┆           ┆ f64       ┆ f64       │\n",
       "╞═══════════╪═══════════╪═══════════╪══════════╪═══╪═══════════╪═══════════╪═══════════╪═══════════╡\n",
       "│ 85.8      ┆ 1.75      ┆ 5.94      ┆ 677870.0 ┆ … ┆ 12.0      ┆ 125.0     ┆ -0.014    ┆ -0.244    │\n",
       "│ 75.4      ┆ 1.94      ┆ 5.92      ┆ 686490.0 ┆ … ┆ 12.0      ┆ 113.0     ┆ -0.028    ┆ -0.226    │\n",
       "│ 76.0      ┆ 1.84      ┆ 5.94      ┆ 686490.0 ┆ … ┆ 12.0      ┆ 113.0     ┆ 0.0       ┆ 0.051     │\n",
       "│ 75.4      ┆ 1.85      ┆ 5.93      ┆ 686490.0 ┆ … ┆ 12.0      ┆ 112.0     ┆ 0.0       ┆ 0.0       │\n",
       "│ 85.5      ┆ 1.83      ┆ 5.87      ┆ 686490.0 ┆ … ┆ 12.0      ┆ 118.0     ┆ 0.0       ┆ -0.084    │\n",
       "└───────────┴───────────┴───────────┴──────────┴───┴───────────┴───────────┴───────────┴───────────┘"
      ]
     },
     "execution_count": 76,
     "metadata": {},
     "output_type": "execute_result"
    }
   ],
   "source": [
    "#What are the numerical columns? \n",
    "df.select(pl.selectors.numeric()).head()"
   ]
  },
  {
   "cell_type": "code",
   "execution_count": 77,
   "metadata": {},
   "outputs": [
    {
     "data": {
      "text/html": [
       "<div><style>\n",
       ".dataframe > thead > tr,\n",
       ".dataframe > tbody > tr {\n",
       "  text-align: right;\n",
       "  white-space: pre-wrap;\n",
       "}\n",
       "</style>\n",
       "<small>shape: (5, 17)</small><table border=\"1\" class=\"dataframe\"><thead><tr><th>pitch_type</th><th>game_date</th><th>player_name</th><th>events</th><th>description</th><th>des</th><th>game_type</th><th>stand</th><th>p_throws</th><th>home_team</th><th>away_team</th><th>type</th><th>bb_type</th><th>inning_topbot</th><th>pitch_name</th><th>if_fielding_alignment</th><th>of_fielding_alignment</th></tr><tr><td>str</td><td>str</td><td>str</td><td>str</td><td>str</td><td>str</td><td>str</td><td>str</td><td>str</td><td>str</td><td>str</td><td>str</td><td>str</td><td>str</td><td>str</td><td>str</td><td>str</td></tr></thead><tbody><tr><td>&quot;SI&quot;</td><td>&quot;2024-03-29 00:00:00&quot;</td><td>&quot;Ramirez, Nick&quot;</td><td>&quot;field_out&quot;</td><td>&quot;hit_into_play&quot;</td><td>&quot;Leo Jimenez grounds out, pitch…</td><td>&quot;R&quot;</td><td>&quot;R&quot;</td><td>&quot;L&quot;</td><td>&quot;BUF&quot;</td><td>&quot;SWB&quot;</td><td>&quot;X&quot;</td><td>&quot;ground_ball&quot;</td><td>&quot;Bot&quot;</td><td>&quot;Sinker&quot;</td><td>&quot;Strategic&quot;</td><td>&quot;Standard&quot;</td></tr><tr><td>&quot;CH&quot;</td><td>&quot;2024-03-29 00:00:00&quot;</td><td>&quot;Ramirez, Nick&quot;</td><td>&quot;strikeout&quot;</td><td>&quot;swinging_strike&quot;</td><td>&quot;Cam Eden strikes out swinging.&quot;</td><td>&quot;R&quot;</td><td>&quot;R&quot;</td><td>&quot;L&quot;</td><td>&quot;BUF&quot;</td><td>&quot;SWB&quot;</td><td>&quot;S&quot;</td><td>null</td><td>&quot;Bot&quot;</td><td>&quot;Changeup&quot;</td><td>&quot;Standard&quot;</td><td>&quot;Standard&quot;</td></tr><tr><td>&quot;CH&quot;</td><td>&quot;2024-03-29 00:00:00&quot;</td><td>&quot;Ramirez, Nick&quot;</td><td>null</td><td>&quot;blocked_ball&quot;</td><td>&quot;Cam Eden strikes out swinging.&quot;</td><td>&quot;R&quot;</td><td>&quot;R&quot;</td><td>&quot;L&quot;</td><td>&quot;BUF&quot;</td><td>&quot;SWB&quot;</td><td>&quot;B&quot;</td><td>null</td><td>&quot;Bot&quot;</td><td>&quot;Changeup&quot;</td><td>&quot;Standard&quot;</td><td>&quot;Standard&quot;</td></tr><tr><td>&quot;CH&quot;</td><td>&quot;2024-03-29 00:00:00&quot;</td><td>&quot;Ramirez, Nick&quot;</td><td>null</td><td>&quot;foul&quot;</td><td>&quot;Cam Eden strikes out swinging.&quot;</td><td>&quot;R&quot;</td><td>&quot;R&quot;</td><td>&quot;L&quot;</td><td>&quot;BUF&quot;</td><td>&quot;SWB&quot;</td><td>&quot;S&quot;</td><td>null</td><td>&quot;Bot&quot;</td><td>&quot;Changeup&quot;</td><td>&quot;Standard&quot;</td><td>&quot;Standard&quot;</td></tr><tr><td>&quot;SI&quot;</td><td>&quot;2024-03-29 00:00:00&quot;</td><td>&quot;Ramirez, Nick&quot;</td><td>null</td><td>&quot;foul&quot;</td><td>&quot;Cam Eden strikes out swinging.&quot;</td><td>&quot;R&quot;</td><td>&quot;R&quot;</td><td>&quot;L&quot;</td><td>&quot;BUF&quot;</td><td>&quot;SWB&quot;</td><td>&quot;S&quot;</td><td>null</td><td>&quot;Bot&quot;</td><td>&quot;Sinker&quot;</td><td>&quot;Standard&quot;</td><td>&quot;Standard&quot;</td></tr></tbody></table></div>"
      ],
      "text/plain": [
       "shape: (5, 17)\n",
       "┌───────────┬───────────┬───────────┬───────────┬───┬───────────┬───────────┬───────────┬──────────┐\n",
       "│ pitch_typ ┆ game_date ┆ player_na ┆ events    ┆ … ┆ inning_to ┆ pitch_nam ┆ if_fieldi ┆ of_field │\n",
       "│ e         ┆ ---       ┆ me        ┆ ---       ┆   ┆ pbot      ┆ e         ┆ ng_alignm ┆ ing_alig │\n",
       "│ ---       ┆ str       ┆ ---       ┆ str       ┆   ┆ ---       ┆ ---       ┆ ent       ┆ nment    │\n",
       "│ str       ┆           ┆ str       ┆           ┆   ┆ str       ┆ str       ┆ ---       ┆ ---      │\n",
       "│           ┆           ┆           ┆           ┆   ┆           ┆           ┆ str       ┆ str      │\n",
       "╞═══════════╪═══════════╪═══════════╪═══════════╪═══╪═══════════╪═══════════╪═══════════╪══════════╡\n",
       "│ SI        ┆ 2024-03-2 ┆ Ramirez,  ┆ field_out ┆ … ┆ Bot       ┆ Sinker    ┆ Strategic ┆ Standard │\n",
       "│           ┆ 9         ┆ Nick      ┆           ┆   ┆           ┆           ┆           ┆          │\n",
       "│           ┆ 00:00:00  ┆           ┆           ┆   ┆           ┆           ┆           ┆          │\n",
       "│ CH        ┆ 2024-03-2 ┆ Ramirez,  ┆ strikeout ┆ … ┆ Bot       ┆ Changeup  ┆ Standard  ┆ Standard │\n",
       "│           ┆ 9         ┆ Nick      ┆           ┆   ┆           ┆           ┆           ┆          │\n",
       "│           ┆ 00:00:00  ┆           ┆           ┆   ┆           ┆           ┆           ┆          │\n",
       "│ CH        ┆ 2024-03-2 ┆ Ramirez,  ┆ null      ┆ … ┆ Bot       ┆ Changeup  ┆ Standard  ┆ Standard │\n",
       "│           ┆ 9         ┆ Nick      ┆           ┆   ┆           ┆           ┆           ┆          │\n",
       "│           ┆ 00:00:00  ┆           ┆           ┆   ┆           ┆           ┆           ┆          │\n",
       "│ CH        ┆ 2024-03-2 ┆ Ramirez,  ┆ null      ┆ … ┆ Bot       ┆ Changeup  ┆ Standard  ┆ Standard │\n",
       "│           ┆ 9         ┆ Nick      ┆           ┆   ┆           ┆           ┆           ┆          │\n",
       "│           ┆ 00:00:00  ┆           ┆           ┆   ┆           ┆           ┆           ┆          │\n",
       "│ SI        ┆ 2024-03-2 ┆ Ramirez,  ┆ null      ┆ … ┆ Bot       ┆ Sinker    ┆ Standard  ┆ Standard │\n",
       "│           ┆ 9         ┆ Nick      ┆           ┆   ┆           ┆           ┆           ┆          │\n",
       "│           ┆ 00:00:00  ┆           ┆           ┆   ┆           ┆           ┆           ┆          │\n",
       "└───────────┴───────────┴───────────┴───────────┴───┴───────────┴───────────┴───────────┴──────────┘"
      ]
     },
     "execution_count": 77,
     "metadata": {},
     "output_type": "execute_result"
    }
   ],
   "source": [
    "#What are the string columns\n",
    "df.select(pl.selectors.string()).head()"
   ]
  },
  {
   "cell_type": "code",
   "execution_count": 78,
   "metadata": {},
   "outputs": [],
   "source": [
    "#Export if needed\n",
    "df.write_csv(\"statcast.csv\")"
   ]
  },
  {
   "cell_type": "code",
   "execution_count": 79,
   "metadata": {},
   "outputs": [
    {
     "data": {
      "text/html": [
       "<div><style>\n",
       ".dataframe > thead > tr,\n",
       ".dataframe > tbody > tr {\n",
       "  text-align: right;\n",
       "  white-space: pre-wrap;\n",
       "}\n",
       "</style>\n",
       "<small>shape: (94, 3)</small><table border=\"1\" class=\"dataframe\"><thead><tr><th>Column Name</th><th>Missing Rows</th><th>% Missing</th></tr><tr><td>str</td><td>u32</td><td>f64</td></tr></thead><tbody><tr><td>&quot;spin_dir&quot;</td><td>759139</td><td>100.0</td></tr><tr><td>&quot;spin_rate_deprecated&quot;</td><td>759139</td><td>100.0</td></tr><tr><td>&quot;break_angle_deprecated&quot;</td><td>759139</td><td>100.0</td></tr><tr><td>&quot;break_length_deprecated&quot;</td><td>759139</td><td>100.0</td></tr><tr><td>&quot;tfs_deprecated&quot;</td><td>759139</td><td>100.0</td></tr><tr><td>&hellip;</td><td>&hellip;</td><td>&hellip;</td></tr><tr><td>&quot;post_away_score&quot;</td><td>0</td><td>0.0</td></tr><tr><td>&quot;post_home_score&quot;</td><td>0</td><td>0.0</td></tr><tr><td>&quot;post_bat_score&quot;</td><td>0</td><td>0.0</td></tr><tr><td>&quot;post_fld_score&quot;</td><td>0</td><td>0.0</td></tr><tr><td>&quot;delta_home_win_exp&quot;</td><td>0</td><td>0.0</td></tr></tbody></table></div>"
      ],
      "text/plain": [
       "shape: (94, 3)\n",
       "┌─────────────────────────┬──────────────┬───────────┐\n",
       "│ Column Name             ┆ Missing Rows ┆ % Missing │\n",
       "│ ---                     ┆ ---          ┆ ---       │\n",
       "│ str                     ┆ u32          ┆ f64       │\n",
       "╞═════════════════════════╪══════════════╪═══════════╡\n",
       "│ spin_dir                ┆ 759139       ┆ 100.0     │\n",
       "│ spin_rate_deprecated    ┆ 759139       ┆ 100.0     │\n",
       "│ break_angle_deprecated  ┆ 759139       ┆ 100.0     │\n",
       "│ break_length_deprecated ┆ 759139       ┆ 100.0     │\n",
       "│ tfs_deprecated          ┆ 759139       ┆ 100.0     │\n",
       "│ …                       ┆ …            ┆ …         │\n",
       "│ post_away_score         ┆ 0            ┆ 0.0       │\n",
       "│ post_home_score         ┆ 0            ┆ 0.0       │\n",
       "│ post_bat_score          ┆ 0            ┆ 0.0       │\n",
       "│ post_fld_score          ┆ 0            ┆ 0.0       │\n",
       "│ delta_home_win_exp      ┆ 0            ┆ 0.0       │\n",
       "└─────────────────────────┴──────────────┴───────────┘"
      ]
     },
     "execution_count": 79,
     "metadata": {},
     "output_type": "execute_result"
    }
   ],
   "source": [
    "#How much data is missing?\n",
    "(\n",
    "    df.null_count()\n",
    "    .transpose(include_header=True)\n",
    "    .rename({\"column\": \"Column Name\", \"column_0\": \"Missing Rows\"})\n",
    "    .with_columns(\n",
    "        ((pl.col(\"Missing Rows\") / df.shape[0]) * 100)\n",
    "        .round(1)\n",
    "        .alias(\"% Missing\")\n",
    "    )\n",
    "    .sort(\"Missing Rows\", descending=True)\n",
    ")"
   ]
  },
  {
   "cell_type": "markdown",
   "metadata": {},
   "source": [
    "### 🔄 Task 3 :  Tidy the data"
   ]
  },
  {
   "cell_type": "markdown",
   "metadata": {},
   "source": [
    "Convert the datetimes from strings to polars datetime objects. The logic is pretty complex. So we will abstract it into a function that we can apply to all of the required columns."
   ]
  },
  {
   "cell_type": "code",
   "execution_count": 80,
   "metadata": {},
   "outputs": [],
   "source": [
    "#Conversion\n",
    "def convert_string_to_datetime(series: pl.Series) -> pl.Series:\n",
    "    \"\"\"\n",
    "    Convert the datetime format from statcast into a datetime format that polars\n",
    "    can understand.\n",
    "    \"\"\"\n",
    "    # Convert the series to datetime using Polars' built-in functionality\n",
    "    datetime_series = series.str.strptime(pl.Datetime, format=\"%Y-%m-%d %H:%M:%S\")\n",
    "    return datetime_series"
   ]
  },
  {
   "cell_type": "code",
   "execution_count": 81,
   "metadata": {},
   "outputs": [
    {
     "data": {
      "text/html": [
       "<div><style>\n",
       ".dataframe > thead > tr,\n",
       ".dataframe > tbody > tr {\n",
       "  text-align: right;\n",
       "  white-space: pre-wrap;\n",
       "}\n",
       "</style>\n",
       "<small>shape: (1,)</small><table border=\"1\" class=\"dataframe\"><thead><tr><th></th></tr><tr><td>datetime[μs]</td></tr></thead><tbody><tr><td>2024-03-29 00:00:00</td></tr></tbody></table></div>"
      ],
      "text/plain": [
       "shape: (1,)\n",
       "Series: '' [datetime[μs]]\n",
       "[\n",
       "\t2024-03-29 00:00:00\n",
       "]"
      ]
     },
     "execution_count": 81,
     "metadata": {},
     "output_type": "execute_result"
    }
   ],
   "source": [
    "#Test Function\n",
    "convert_string_to_datetime(pl.Series([\"2024-03-29 00:00:00\"]))"
   ]
  },
  {
   "cell_type": "code",
   "execution_count": 82,
   "metadata": {},
   "outputs": [],
   "source": [
    "df_clean = df.with_columns(\n",
    "    (\n",
    "        pl.col(\"game_date\").map_batches(\n",
    "            convert_string_to_datetime\n",
    "        )\n",
    "    )\n",
    ")"
   ]
  },
  {
   "cell_type": "code",
   "execution_count": 83,
   "metadata": {},
   "outputs": [],
   "source": [
    "#Replace Pitch Type Abbreviations with Pitch Name \n",
    "pitch_type_mapping = {\n",
    "#Fastball \n",
    "    \"FF\": \"Fastball (4-seam)\",\n",
    "    \"SI\": \"Sinker (2-seam)\",\n",
    "    \"FC\": \"Cutter\",\n",
    "#Offspeed \n",
    "    \"CH\": \"Changeup\",\n",
    "    \"FS\": \"Split-finger\",\n",
    "    \"FO\": \"Forkball\", \n",
    "    \"SC\": \"Screwball\",\n",
    "#Breaking \n",
    "    \"CU\": \"Curveball\", \n",
    "    \"KC\": \"Knuckle Curve\", \n",
    "    \"CS\": \"Slow Curve\",\n",
    "    \"SL\": \"Slider\", \n",
    "    \"ST\": \"Sweeper\", \n",
    "    \"SV\": \"Slurve\", \n",
    "    \"KN\": \"Knuckleball\", \n",
    "#Other Pitches\n",
    "    \"EP\": \"Euphus\", \n",
    "    \"FA\": \"Other\", \n",
    "    \"IN\": \"Intentional Ball\", \n",
    "    \"PO\": \"Pitchout\"\n",
    "}"
   ]
  },
  {
   "cell_type": "code",
   "execution_count": 84,
   "metadata": {},
   "outputs": [
    {
     "data": {
      "text/html": [
       "<div><style>\n",
       ".dataframe > thead > tr,\n",
       ".dataframe > tbody > tr {\n",
       "  text-align: right;\n",
       "  white-space: pre-wrap;\n",
       "}\n",
       "</style>\n",
       "<small>shape: (18, 2)</small><table border=\"1\" class=\"dataframe\"><thead><tr><th>OldName</th><th>CorrectName</th></tr><tr><td>str</td><td>str</td></tr></thead><tbody><tr><td>&quot;FF&quot;</td><td>&quot;Fastball (4-seam)&quot;</td></tr><tr><td>&quot;SI&quot;</td><td>&quot;Sinker (2-seam)&quot;</td></tr><tr><td>&quot;FC&quot;</td><td>&quot;Cutter&quot;</td></tr><tr><td>&quot;CH&quot;</td><td>&quot;Changeup&quot;</td></tr><tr><td>&quot;FS&quot;</td><td>&quot;Split-finger&quot;</td></tr><tr><td>&hellip;</td><td>&hellip;</td></tr><tr><td>&quot;KN&quot;</td><td>&quot;Knuckleball&quot;</td></tr><tr><td>&quot;EP&quot;</td><td>&quot;Euphus&quot;</td></tr><tr><td>&quot;FA&quot;</td><td>&quot;Other&quot;</td></tr><tr><td>&quot;IN&quot;</td><td>&quot;Intentional Ball&quot;</td></tr><tr><td>&quot;PO&quot;</td><td>&quot;Pitchout&quot;</td></tr></tbody></table></div>"
      ],
      "text/plain": [
       "shape: (18, 2)\n",
       "┌─────────┬───────────────────┐\n",
       "│ OldName ┆ CorrectName       │\n",
       "│ ---     ┆ ---               │\n",
       "│ str     ┆ str               │\n",
       "╞═════════╪═══════════════════╡\n",
       "│ FF      ┆ Fastball (4-seam) │\n",
       "│ SI      ┆ Sinker (2-seam)   │\n",
       "│ FC      ┆ Cutter            │\n",
       "│ CH      ┆ Changeup          │\n",
       "│ FS      ┆ Split-finger      │\n",
       "│ …       ┆ …                 │\n",
       "│ KN      ┆ Knuckleball       │\n",
       "│ EP      ┆ Euphus            │\n",
       "│ FA      ┆ Other             │\n",
       "│ IN      ┆ Intentional Ball  │\n",
       "│ PO      ┆ Pitchout          │\n",
       "└─────────┴───────────────────┘"
      ]
     },
     "execution_count": 84,
     "metadata": {},
     "output_type": "execute_result"
    }
   ],
   "source": [
    "pitch_type_mapping_df = pl.DataFrame(\n",
    "    {\n",
    "        \"OldName\": pitch_type_mapping.keys(),\n",
    "        \"CorrectName\": pitch_type_mapping.values(),\n",
    "    }\n",
    ")\n",
    "\n",
    "pitch_type_mapping_df"
   ]
  },
  {
   "cell_type": "code",
   "execution_count": 85,
   "metadata": {},
   "outputs": [],
   "source": [
    "#Used for Validation\n",
    "pitch_type_mapping_series = [\n",
    "    \"Fastball (4-seam)\",\"Sinker (2-seam)\",\"Cutter\",\"Changeup\",\"Split-finger\",\n",
    "    \"Forkball\",\"Screwball\",\"Curveball\",\"Knuckle Curve\",\"Slow Curve\",\"Slider\", \"Sweeper\",\"Slurve\", \n",
    "    \"Knuckleball\",\"Euphus\",\"Other\",\"Intentional Ball\",\"Pitchout\"]"
   ]
  },
  {
   "cell_type": "code",
   "execution_count": 93,
   "metadata": {},
   "outputs": [],
   "source": [
    "df_clean_tidy = (\n",
    "    df_clean.join(\n",
    "        pitch_type_mapping_df,\n",
    "        left_on=\"pitch_type\",\n",
    "        right_on=\"OldName\",\n",
    "        how=\"left\",\n",
    "        validate=\"m:1\",\n",
    "        coalesce=True\n",
    "    )\n",
    "    .rename({\"CorrectName\": \"pitch_type_corrected\"})\n",
    "    #.drop([\"Departing\", \"Arriving\"])\n",
    "    .rename({\"pitch_type_corrected\": \"pitch_type_new\"})\n",
    "    .select(\n",
    "        [\n",
    "            \"pitch_type_new\",\n",
    "            \"game_date\",\n",
    "            \"release_speed\",\n",
    "            \"release_pos_x\",\n",
    "            \"release_pos_z\",\n",
    "            \"events\",\n",
    "            \"description\",\n",
    "            \"zone\",\n",
    "            \"des\",\n",
    "            \"stand\",\n",
    "            \"p_throws\",\n",
    "            \"hit_location\",\n",
    "            \"bb_type\",\n",
    "            \"pfx_x\",\n",
    "            \"pfx_z\",\n",
    "            \"plate_x\",\n",
    "            \"plate_z\",\n",
    "            \"hc_x\",\n",
    "            \"hc_y\",\n",
    "            \"hit_distance_sc\",\n",
    "            \"launch_speed\",\n",
    "            \"launch_angle\",\n",
    "            \"release_spin_rate\"\n",
    "        ]\n",
    "            ) \n",
    "    .filter(pl.col(\"description\").is_in([\"hit_into_play\"])& ~pl.col('pitch_type_new').is_null())  \n",
    ")"
   ]
  },
  {
   "cell_type": "code",
   "execution_count": 94,
   "metadata": {},
   "outputs": [
    {
     "data": {
      "text/html": [
       "<div><style>\n",
       ".dataframe > thead > tr,\n",
       ".dataframe > tbody > tr {\n",
       "  text-align: right;\n",
       "  white-space: pre-wrap;\n",
       "}\n",
       "</style>\n",
       "<small>shape: (16, 2)</small><table border=\"1\" class=\"dataframe\"><thead><tr><th>pitch_type_new</th><th>count</th></tr><tr><td>str</td><td>u32</td></tr></thead><tbody><tr><td>&quot;Fastball (4-seam)&quot;</td><td>37560</td></tr><tr><td>&quot;Sinker (2-seam)&quot;</td><td>23169</td></tr><tr><td>&quot;Curveball&quot;</td><td>6742</td></tr><tr><td>&quot;Knuckle Curve&quot;</td><td>417</td></tr><tr><td>&quot;Slurve&quot;</td><td>82</td></tr><tr><td>&hellip;</td><td>&hellip;</td></tr><tr><td>&quot;Euphus&quot;</td><td>55</td></tr><tr><td>&quot;Forkball&quot;</td><td>74</td></tr><tr><td>&quot;Cutter&quot;</td><td>11502</td></tr><tr><td>&quot;Screwball&quot;</td><td>28</td></tr><tr><td>&quot;Slider&quot;</td><td>20823</td></tr></tbody></table></div>"
      ],
      "text/plain": [
       "shape: (16, 2)\n",
       "┌───────────────────┬───────┐\n",
       "│ pitch_type_new    ┆ count │\n",
       "│ ---               ┆ ---   │\n",
       "│ str               ┆ u32   │\n",
       "╞═══════════════════╪═══════╡\n",
       "│ Fastball (4-seam) ┆ 37560 │\n",
       "│ Sinker (2-seam)   ┆ 23169 │\n",
       "│ Curveball         ┆ 6742  │\n",
       "│ Knuckle Curve     ┆ 417   │\n",
       "│ Slurve            ┆ 82    │\n",
       "│ …                 ┆ …     │\n",
       "│ Euphus            ┆ 55    │\n",
       "│ Forkball          ┆ 74    │\n",
       "│ Cutter            ┆ 11502 │\n",
       "│ Screwball         ┆ 28    │\n",
       "│ Slider            ┆ 20823 │\n",
       "└───────────────────┴───────┘"
      ]
     },
     "execution_count": 94,
     "metadata": {},
     "output_type": "execute_result"
    }
   ],
   "source": [
    "df_clean_tidy['pitch_type_new'].value_counts()"
   ]
  },
  {
   "cell_type": "code",
   "execution_count": 95,
   "metadata": {},
   "outputs": [],
   "source": [
    "#Export if needed\n",
    "df_clean_tidy.write_csv(\"statcast_clean.csv\")"
   ]
  },
  {
   "cell_type": "code",
   "execution_count": 110,
   "metadata": {},
   "outputs": [
    {
     "data": {
      "text/plain": [
       "120586"
      ]
     },
     "execution_count": 110,
     "metadata": {},
     "output_type": "execute_result"
    }
   ],
   "source": [
    "df_clean_tidy.shape[0]"
   ]
  },
  {
   "cell_type": "markdown",
   "metadata": {},
   "source": [
    "### 🔄 Task 4 : Validate the Data"
   ]
  },
  {
   "cell_type": "markdown",
   "metadata": {},
   "source": [
    "In the previous activity we tidied the dataset. For some projects, this may be enough. However, for this project we plan to refresh the data on a regular basis. We would like to gain additional comfort that the data we are using is correct. Data validation can help prove that our data tidying was correct, and find any potential issues if the upstream data changes.\n",
    "\n",
    "[Pandera](https://pandera.readthedocs.io/en/stable/) is a Python library for validating Pandas dataframes. There are two steps:\n",
    "\n",
    "1. Define a schema for your data. For example:\n",
    "   - Define the type for each column\n",
    "   - Confirm if null values are allowed\n",
    "   - Define custom checks\n",
    "2. Run your data through the schema validator.\n",
    "\n",
    "You will find these links useful when defining your schema:\n",
    "\n",
    "- Polars data validation guide: https://pandera.readthedocs.io/en/stable/polars.html#usage\n",
    "- Polars data types: https://pandera.readthedocs.io/en/stable/reference/dtypes.html#polars-dtypes\n",
    "- `Column(` API: https://pandera.readthedocs.io/en/stable/reference/generated/pandera.api.dataframe.model_components.Field.html#pandera.api.dataframe.model_components.Field\n",
    "- List of built in checks you can use with `Column(`: https://pandera.readthedocs.io/en/stable/reference/generated/pandera.api.checks.Check.html#pandera.api.checks.Check"
   ]
  },
  {
   "cell_type": "markdown",
   "metadata": {},
   "source": [
    "The class below defines the schema and checks for the `Statcast Minor League Data` data set.\n",
    "\n",
    "- Each column is a class attribute. At a minimum, we define the column type (e.g. int, str, datetime, etc.)\n",
    "- For some columns, we use `Column(` to add more checks. For example in the `events` column we are going to allow nullable values.\n",
    "- We can define additional and more complex column and dataframe level checks by defining class methods."
   ]
  },
  {
   "cell_type": "code",
   "execution_count": 96,
   "metadata": {},
   "outputs": [],
   "source": [
    "import pandera as pa\n",
    "from pandera import Column, Check, DataFrameSchema, Index\n",
    "import pandas as pd\n",
    "#from pandera.engines.polars_engine import DateTime, Date, Int64"
   ]
  },
  {
   "cell_type": "code",
   "execution_count": 97,
   "metadata": {},
   "outputs": [],
   "source": [
    "#Convert to Pandas dataframe. Locally, Polars and Pandera are not working well together but it should get better in the future. \n",
    "df_clean_tidy_pandas = df_clean_tidy.to_pandas()"
   ]
  },
  {
   "cell_type": "code",
   "execution_count": 104,
   "metadata": {},
   "outputs": [],
   "source": [
    "#Validations to build\n",
    "#1. Check if all required columns exist - All Columns Listed in Schema are required. If you want to make a feature optional, put required=False\n",
    "#2. Check if Launch Speed is Negative\n",
    "#3. Validate all Data Types \n",
    "#4. Error if extra columns (making sure theres no new features on accident). This is the strict=True argument. Otherwise do strict='filter' to drop them. \n",
    "#5. Error if pitch type not in the pitch type dictionary\n",
    "#6. Column Order. If you want order to matter, put ordered=True\n",
    "#7. If a column is missing, add it. add_missing_columns=True\n",
    "\n",
    "schema = pa.DataFrameSchema({\n",
    "    \"pitch_type_new\": Column(str,Check.isin(pitch_type_mapping_series),nullable=False),\n",
    "    \"game_date\": Column(pd.Timestamp,nullable=True),\n",
    "    \"release_speed\": Column(float, Check(lambda s: s < 110),nullable=True),\n",
    "    \"release_pos_x\": Column(float,nullable=True),\n",
    "    \"release_pos_z\":Column(float,nullable=True),\n",
    "    \"events\": Column(str,nullable=True),\n",
    "    \"description\": Column(str,nullable=True),\n",
    "    \"zone\": Column(float,nullable=True),\n",
    "    \"des\": Column(str,nullable=True),\n",
    "    \"stand\": Column(str,nullable=True),\n",
    "    \"p_throws\": Column(str,nullable=True),\n",
    "    \"hit_location\": Column(float,nullable=True),\n",
    "    \"bb_type\": Column(str,nullable=True),\n",
    "    \"pfx_x\": Column(float,nullable=True),\n",
    "    \"pfx_z\": Column(float,nullable=True),\n",
    "    \"plate_x\": Column(float,nullable=True),\n",
    "    \"plate_z\": Column(float,nullable=True),\n",
    "    \"hc_x\": Column(float,nullable=True),\n",
    "    \"hc_y\": Column(float,nullable=True),\n",
    "    \"hit_distance_sc\": Column(float,nullable=True),\n",
    "    \"launch_speed\": Column(float,Check(lambda s: s > 0),nullable=True),\n",
    "    \"launch_angle\": Column(float,nullable=True),\n",
    "    \"release_spin_rate\": Column(float,nullable=True)\n",
    "    }, strict=True, ordered=True, add_missing_columns=True)"
   ]
  },
  {
   "cell_type": "markdown",
   "metadata": {},
   "source": [
    "To validate the data, run the dataframe through the `pa.DataFrameModel.validate` method."
   ]
  },
  {
   "cell_type": "code",
   "execution_count": 105,
   "metadata": {},
   "outputs": [],
   "source": [
    "try: \n",
    "    schema.validate(df_clean_tidy_pandas)\n",
    "except pa.errors.SchemaError as exc: \n",
    "    print(exc)"
   ]
  },
  {
   "cell_type": "markdown",
   "metadata": {},
   "source": [
    "### 🔄  Write Cleaned and Tidy Results to Database"
   ]
  },
  {
   "cell_type": "code",
   "execution_count": 115,
   "metadata": {},
   "outputs": [],
   "source": [
    "if df_clean_tidy_pandas is not None and not df_clean_tidy_pandas.empty:\n",
    "        conn = sqlite3.connect('major_league_statcast.db')\n",
    "        #conn.execute(\"TRUNCATE TABLE statcast_data_clean\")\n",
    "        # Insert data into the SQLite database\n",
    "        df_clean_tidy_pandas.to_sql('statcast_data_clean', conn,if_exists='replace', index=False)"
   ]
  },
  {
   "cell_type": "code",
   "execution_count": 120,
   "metadata": {},
   "outputs": [
    {
     "data": {
      "text/plain": [
       "120586"
      ]
     },
     "execution_count": 120,
     "metadata": {},
     "output_type": "execute_result"
    }
   ],
   "source": [
    "statcast_data_clean = pd.read_sql('SELECT * FROM statcast_data_clean',conn)\n",
    "statcast_data_clean.shape[0]"
   ]
  },
  {
   "cell_type": "code",
   "execution_count": 121,
   "metadata": {},
   "outputs": [
    {
     "data": {
      "text/html": [
       "<div>\n",
       "<style scoped>\n",
       "    .dataframe tbody tr th:only-of-type {\n",
       "        vertical-align: middle;\n",
       "    }\n",
       "\n",
       "    .dataframe tbody tr th {\n",
       "        vertical-align: top;\n",
       "    }\n",
       "\n",
       "    .dataframe thead th {\n",
       "        text-align: right;\n",
       "    }\n",
       "</style>\n",
       "<table border=\"1\" class=\"dataframe\">\n",
       "  <thead>\n",
       "    <tr style=\"text-align: right;\">\n",
       "      <th></th>\n",
       "      <th>pitch_type_new</th>\n",
       "      <th>game_date</th>\n",
       "      <th>release_speed</th>\n",
       "      <th>release_pos_x</th>\n",
       "      <th>release_pos_z</th>\n",
       "      <th>events</th>\n",
       "      <th>description</th>\n",
       "      <th>zone</th>\n",
       "      <th>des</th>\n",
       "      <th>stand</th>\n",
       "      <th>...</th>\n",
       "      <th>pfx_x</th>\n",
       "      <th>pfx_z</th>\n",
       "      <th>plate_x</th>\n",
       "      <th>plate_z</th>\n",
       "      <th>hc_x</th>\n",
       "      <th>hc_y</th>\n",
       "      <th>hit_distance_sc</th>\n",
       "      <th>launch_speed</th>\n",
       "      <th>launch_angle</th>\n",
       "      <th>release_spin_rate</th>\n",
       "    </tr>\n",
       "  </thead>\n",
       "  <tbody>\n",
       "    <tr>\n",
       "      <th>0</th>\n",
       "      <td>Sinker (2-seam)</td>\n",
       "      <td>2024-03-29 00:00:00</td>\n",
       "      <td>85.8</td>\n",
       "      <td>1.75</td>\n",
       "      <td>5.94</td>\n",
       "      <td>field_out</td>\n",
       "      <td>hit_into_play</td>\n",
       "      <td>3.0</td>\n",
       "      <td>Leo Jimenez grounds out, pitcher Nick Ramirez ...</td>\n",
       "      <td>R</td>\n",
       "      <td>...</td>\n",
       "      <td>1.04</td>\n",
       "      <td>0.16</td>\n",
       "      <td>0.29</td>\n",
       "      <td>2.75</td>\n",
       "      <td>127.68</td>\n",
       "      <td>183.52</td>\n",
       "      <td>2.0</td>\n",
       "      <td>85.4</td>\n",
       "      <td>-54.0</td>\n",
       "      <td>1919.0</td>\n",
       "    </tr>\n",
       "    <tr>\n",
       "      <th>1</th>\n",
       "      <td>Changeup</td>\n",
       "      <td>2024-03-29 00:00:00</td>\n",
       "      <td>75.4</td>\n",
       "      <td>3.29</td>\n",
       "      <td>5.98</td>\n",
       "      <td>field_out</td>\n",
       "      <td>hit_into_play</td>\n",
       "      <td>13.0</td>\n",
       "      <td>Payton Henry flies out to left fielder Everson...</td>\n",
       "      <td>R</td>\n",
       "      <td>...</td>\n",
       "      <td>1.25</td>\n",
       "      <td>0.61</td>\n",
       "      <td>-0.06</td>\n",
       "      <td>1.43</td>\n",
       "      <td>73.44</td>\n",
       "      <td>113.05</td>\n",
       "      <td>294.0</td>\n",
       "      <td>87.2</td>\n",
       "      <td>38.0</td>\n",
       "      <td>1543.0</td>\n",
       "    </tr>\n",
       "    <tr>\n",
       "      <th>2</th>\n",
       "      <td>Sinker (2-seam)</td>\n",
       "      <td>2024-03-29 00:00:00</td>\n",
       "      <td>85.1</td>\n",
       "      <td>3.39</td>\n",
       "      <td>5.90</td>\n",
       "      <td>single</td>\n",
       "      <td>hit_into_play</td>\n",
       "      <td>5.0</td>\n",
       "      <td>Orelvis Martinez singles on a line drive to ce...</td>\n",
       "      <td>R</td>\n",
       "      <td>...</td>\n",
       "      <td>1.29</td>\n",
       "      <td>0.34</td>\n",
       "      <td>0.20</td>\n",
       "      <td>2.44</td>\n",
       "      <td>116.69</td>\n",
       "      <td>106.07</td>\n",
       "      <td>182.0</td>\n",
       "      <td>77.2</td>\n",
       "      <td>19.0</td>\n",
       "      <td>1905.0</td>\n",
       "    </tr>\n",
       "    <tr>\n",
       "      <th>3</th>\n",
       "      <td>Sinker (2-seam)</td>\n",
       "      <td>2024-03-29 00:00:00</td>\n",
       "      <td>93.9</td>\n",
       "      <td>1.83</td>\n",
       "      <td>6.02</td>\n",
       "      <td>field_out</td>\n",
       "      <td>hit_into_play</td>\n",
       "      <td>4.0</td>\n",
       "      <td>Kevin Smith grounds out, pitcher Brendon Littl...</td>\n",
       "      <td>R</td>\n",
       "      <td>...</td>\n",
       "      <td>1.27</td>\n",
       "      <td>-0.01</td>\n",
       "      <td>-0.61</td>\n",
       "      <td>2.43</td>\n",
       "      <td>129.20</td>\n",
       "      <td>181.49</td>\n",
       "      <td>8.0</td>\n",
       "      <td>87.9</td>\n",
       "      <td>-16.0</td>\n",
       "      <td>2052.0</td>\n",
       "    </tr>\n",
       "    <tr>\n",
       "      <th>4</th>\n",
       "      <td>Sinker (2-seam)</td>\n",
       "      <td>2024-03-29 00:00:00</td>\n",
       "      <td>93.8</td>\n",
       "      <td>1.77</td>\n",
       "      <td>6.04</td>\n",
       "      <td>field_out</td>\n",
       "      <td>hit_into_play</td>\n",
       "      <td>4.0</td>\n",
       "      <td>Jose Rojas grounds out softly, pitcher Brendon...</td>\n",
       "      <td>L</td>\n",
       "      <td>...</td>\n",
       "      <td>1.12</td>\n",
       "      <td>-0.26</td>\n",
       "      <td>-0.32</td>\n",
       "      <td>2.47</td>\n",
       "      <td>132.43</td>\n",
       "      <td>195.24</td>\n",
       "      <td>1.0</td>\n",
       "      <td>52.0</td>\n",
       "      <td>-70.0</td>\n",
       "      <td>2070.0</td>\n",
       "    </tr>\n",
       "  </tbody>\n",
       "</table>\n",
       "<p>5 rows × 23 columns</p>\n",
       "</div>"
      ],
      "text/plain": [
       "    pitch_type_new            game_date  release_speed  release_pos_x  \\\n",
       "0  Sinker (2-seam)  2024-03-29 00:00:00           85.8           1.75   \n",
       "1         Changeup  2024-03-29 00:00:00           75.4           3.29   \n",
       "2  Sinker (2-seam)  2024-03-29 00:00:00           85.1           3.39   \n",
       "3  Sinker (2-seam)  2024-03-29 00:00:00           93.9           1.83   \n",
       "4  Sinker (2-seam)  2024-03-29 00:00:00           93.8           1.77   \n",
       "\n",
       "   release_pos_z     events    description  zone  \\\n",
       "0           5.94  field_out  hit_into_play   3.0   \n",
       "1           5.98  field_out  hit_into_play  13.0   \n",
       "2           5.90     single  hit_into_play   5.0   \n",
       "3           6.02  field_out  hit_into_play   4.0   \n",
       "4           6.04  field_out  hit_into_play   4.0   \n",
       "\n",
       "                                                 des stand  ... pfx_x  pfx_z  \\\n",
       "0  Leo Jimenez grounds out, pitcher Nick Ramirez ...     R  ...  1.04   0.16   \n",
       "1  Payton Henry flies out to left fielder Everson...     R  ...  1.25   0.61   \n",
       "2  Orelvis Martinez singles on a line drive to ce...     R  ...  1.29   0.34   \n",
       "3  Kevin Smith grounds out, pitcher Brendon Littl...     R  ...  1.27  -0.01   \n",
       "4  Jose Rojas grounds out softly, pitcher Brendon...     L  ...  1.12  -0.26   \n",
       "\n",
       "  plate_x  plate_z    hc_x    hc_y  hit_distance_sc  launch_speed  \\\n",
       "0    0.29     2.75  127.68  183.52              2.0          85.4   \n",
       "1   -0.06     1.43   73.44  113.05            294.0          87.2   \n",
       "2    0.20     2.44  116.69  106.07            182.0          77.2   \n",
       "3   -0.61     2.43  129.20  181.49              8.0          87.9   \n",
       "4   -0.32     2.47  132.43  195.24              1.0          52.0   \n",
       "\n",
       "   launch_angle  release_spin_rate  \n",
       "0         -54.0             1919.0  \n",
       "1          38.0             1543.0  \n",
       "2          19.0             1905.0  \n",
       "3         -16.0             2052.0  \n",
       "4         -70.0             2070.0  \n",
       "\n",
       "[5 rows x 23 columns]"
      ]
     },
     "execution_count": 121,
     "metadata": {},
     "output_type": "execute_result"
    }
   ],
   "source": [
    "statcast_data_clean.head()"
   ]
  },
  {
   "cell_type": "markdown",
   "metadata": {},
   "source": [
    "### 🔄  Set up email with Posit Connect and Quarto"
   ]
  },
  {
   "cell_type": "code",
   "execution_count": 118,
   "metadata": {},
   "outputs": [],
   "source": [
    "import quarto"
   ]
  },
  {
   "cell_type": "markdown",
   "metadata": {},
   "source": [
    "Posit Connect has support for sending emails with Quarto: https://docs.posit.co/connect/user/quarto/#email-customization. \n",
    "\n",
    "Generate an email to update all the email recipients on the status of the new data. \n",
    "\n",
    "**Tips**\n",
    "\n",
    "Run the following in the terminal to preview the email:\n",
    "\n",
    "```bash\n",
    "quarto render notebook.ipynb --execute --output-dir tmp\n",
    "```\n",
    "\n",
    "The open `tmp/email-preview/index.html` to preview the email."
   ]
  },
  {
   "cell_type": "markdown",
   "metadata": {},
   "source": [
    "Define the variable data"
   ]
  },
  {
   "cell_type": "code",
   "execution_count": 119,
   "metadata": {},
   "outputs": [
    {
     "data": {
      "text/plain": [
       "'2024-08-22'"
      ]
     },
     "execution_count": 119,
     "metadata": {},
     "output_type": "execute_result"
    }
   ],
   "source": [
    "import datetime \n",
    "\n",
    "todays_date = datetime.datetime.now().strftime(\"%Y-%m-%d\")\n",
    "todays_date"
   ]
  },
  {
   "cell_type": "markdown",
   "metadata": {},
   "source": [
    "Create your email template."
   ]
  },
  {
   "cell_type": "raw",
   "metadata": {},
   "source": [
    "::: {.email}"
   ]
  },
  {
   "cell_type": "raw",
   "metadata": {},
   "source": [
    ":::::: {.subject}"
   ]
  },
  {
   "cell_type": "markdown",
   "metadata": {},
   "source": [
    "MLB Play-by-Play Data Validation Report for `{python} todays_date`"
   ]
  },
  {
   "cell_type": "raw",
   "metadata": {},
   "source": [
    "::::::"
   ]
  },
  {
   "cell_type": "markdown",
   "metadata": {},
   "source": [
    "**Update**\n",
    "\n",
    "The Statcast MLB Play by Play data has been updated and validated. The following data sets are available for your use:\n",
    "\n",
    "- Play by Play Cleaned: `{python} f\"{username}_statcast_data_clean\"`\n"
   ]
  },
  {
   "cell_type": "code",
   "execution_count": 127,
   "metadata": {},
   "outputs": [
    {
     "name": "stderr",
     "output_type": "stream",
     "text": [
      "C:\\Users\\zetvz\\AppData\\Local\\Temp\\ipykernel_13440\\279840034.py:8: SettingWithCopyWarning: \n",
      "A value is trying to be set on a copy of a slice from a DataFrame.\n",
      "Try using .loc[row_indexer,col_indexer] = value instead\n",
      "\n",
      "See the caveats in the documentation: https://pandas.pydata.org/pandas-docs/stable/user_guide/indexing.html#returning-a-view-versus-a-copy\n",
      "  filtered_data['Month'] = pd.to_datetime(filtered_data['game_date']).dt.to_period('M').dt.to_timestamp()\n"
     ]
    },
    {
     "data": {
      "image/png": "[encoded data removed]",
      "text/plain": [
       "<Figure size 640x480 with 1 Axes>"
      ]
     },
     "metadata": {},
     "output_type": "display_data"
    }
   ],
   "source": [
    "# | echo: false\n",
    "import matplotlib.pyplot as plt\n",
    "import matplotlib as mpl\n",
    "filtered_data = statcast_data_clean[statcast_data_clean['events'] == 'home_run']\n",
    "\n",
    "\n",
    "# Assuming statcast_data_clean is a Pandas DataFrame\n",
    "filtered_data['Month'] = pd.to_datetime(filtered_data['game_date']).dt.to_period('M').dt.to_timestamp()\n",
    "result_df = (filtered_data.groupby('Month')['events'].count().reset_index(name='Result'))\n",
    "result_df.plot(x='Month', y='Result', title='Homeruns by Month')\n",
    "plt.gca().yaxis.set_major_formatter(mpl.ticker.StrMethodFormatter(\"{x:,.0f}\"))\n",
    "plt.show()\n",
    "\n",
    "#ax.yaxis.set_major_formatter(mpl.ticker.StrMethodFormatter(\"{x:,.0f}\"))\n",
    "\n",
    "#plt.show()"
   ]
  },
  {
   "cell_type": "markdown",
   "metadata": {},
   "source": [
    " ### 🔄 Task - publish notebook as Quarto document to Posit Connect"
   ]
  },
  {
   "cell_type": "markdown",
   "metadata": {},
   "source": [
    "Deploy the notebook to Posit Connect as a Quarto document."
   ]
  },
  {
   "cell_type": "markdown",
   "metadata": {},
   "source": [
    "**Posit Publisher**\n",
    "\n",
    "Deploy using the Posit Publisher VS Code extension. Check that you have the required environment variables:\n",
    "\n",
    "```bash\n",
    "source .env\n",
    "echo $CONNECT_SERVER\n",
    "echo $CONNECT_API_KEY\n",
    "```"
   ]
  }
 ],
 "metadata": {
  "kernelspec": {
   "display_name": ".venv",
   "language": "python",
   "name": "python3"
  },
  "language_info": {
   "codemirror_mode": {
    "name": "ipython",
    "version": 3
   },
   "file_extension": ".py",
   "mimetype": "text/x-python",
   "name": "python",
   "nbconvert_exporter": "python",
   "pygments_lexer": "ipython3",
   "version": "3.12.4"
  }
 },
 "nbformat": 4,
 "nbformat_minor": 2
}
